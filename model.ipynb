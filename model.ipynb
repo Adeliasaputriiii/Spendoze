{
 "cells": [
  {
   "cell_type": "code",
   "execution_count": 1,
   "id": "21650faf",
   "metadata": {},
   "outputs": [
    {
     "name": "stdout",
     "output_type": "stream",
     "text": [
      "Jumlah file box: 626\n",
      "Jumlah file entity: 626\n"
     ]
    }
   ],
   "source": [
    "# Import Library\n",
    "import json\n",
    "from pathlib import Path\n",
    "import re\n",
    "import random\n",
    "import spacy\n",
    "from spacy.training.example import Example\n",
    "from PIL import Image\n",
    "import matplotlib.pyplot as plt\n",
    "\n",
    "# Atur path dataset\n",
    "box_dir = Path(\"Dataset/train/box\")\n",
    "entities_dir = Path(\"Dataset/train/entities\")\n",
    "\n",
    "# Ambil file\n",
    "box_files = list(box_dir.glob(\"*.txt\"))\n",
    "entities_files = list(entities_dir.glob(\"*.txt\"))\n",
    "\n",
    "print(f\"Jumlah file box: {len(box_files)}\")\n",
    "print(f\"Jumlah file entity: {len(entities_files)}\")\n"
   ]
  },
  {
   "cell_type": "code",
   "execution_count": 2,
   "id": "6d26f604",
   "metadata": {},
   "outputs": [],
   "source": [
    "\n",
    "def clean_text(text):\n",
    "    return re.sub(r\"\\s+\", \" \", text.strip().lower())\n",
    "\n",
    "\n",
    "def find_entity_spans(full_text, labels):\n",
    "    entities = []\n",
    "    for key, val in labels.items():\n",
    "        val_clean = clean_text(val)\n",
    "        start = full_text.find(val_clean)\n",
    "        if start != -1:\n",
    "            end = start + len(val_clean)\n",
    "            entities.append((start, end, key.upper()))\n",
    "    return entities\n"
   ]
  },
  {
   "cell_type": "code",
   "execution_count": 3,
   "id": "5d446f5c",
   "metadata": {},
   "outputs": [
    {
     "name": "stdout",
     "output_type": "stream",
     "text": [
      "Total data pelatihan: 23\n"
     ]
    }
   ],
   "source": [
    "train_data = []\n",
    "\n",
    "for box_path in box_files:\n",
    "    with open(box_path, \"r\", encoding=\"utf-8\") as f:\n",
    "        lines = f.readlines()\n",
    "        words = [line.strip().split(\",\")[-1] for line in lines if line.strip()]\n",
    "        full_text = clean_text(\" \".join(words))\n",
    "\n",
    "        for entity_path in entities_files:\n",
    "            with open(entity_path, \"r\", encoding=\"utf-8\") as ef:\n",
    "                try:\n",
    "                    entity_data = json.loads(ef.read())\n",
    "                except:\n",
    "                    continue\n",
    "                entities = find_entity_spans(full_text, entity_data)\n",
    "                if len(entities) == 4:\n",
    "                    train_data.append((full_text, {\"entities\": entities}))\n",
    "                    break\n",
    "\n",
    "print(f\"Total data pelatihan: {len(train_data)}\")\n"
   ]
  },
  {
   "cell_type": "code",
   "execution_count": 4,
   "id": "09ddba78",
   "metadata": {},
   "outputs": [],
   "source": [
    "# Acak data agar pelatihan lebih merata\n",
    "random.shuffle(train_data)\n",
    "\n",
    "\n",
    "nlp = spacy.blank(\"en\")\n",
    "ner = nlp.add_pipe(\"ner\")\n",
    "\n",
    "# Tambahkan label entitas\n",
    "for _, annotations in train_data:\n",
    "    for ent in annotations.get(\"entities\"):\n",
    "        ner.add_label(ent[2])\n"
   ]
  },
  {
   "cell_type": "code",
   "execution_count": null,
   "id": "ca3bb39d",
   "metadata": {},
   "outputs": [
    {
     "name": "stdout",
     "output_type": "stream",
     "text": [
      "Epoch 1 | Loss: 1144.0225\n",
      "Epoch 2 | Loss: 175.8811\n",
      "Epoch 3 | Loss: 218.5965\n",
      "Epoch 4 | Loss: 269.1240\n",
      "Epoch 5 | Loss: 317.8970\n",
      "Epoch 6 | Loss: 943.4911\n",
      "Epoch 7 | Loss: 152.2375\n",
      "Epoch 8 | Loss: 95.6610\n",
      "Epoch 9 | Loss: 70.9854\n",
      "Epoch 10 | Loss: 49.1708\n",
      "Epoch 11 | Loss: 53.7365\n",
      "Epoch 12 | Loss: 27.0772\n",
      "Epoch 13 | Loss: 43.2733\n",
      "Epoch 14 | Loss: 34.0453\n",
      "Epoch 15 | Loss: 25.2779\n",
      "Epoch 16 | Loss: 19.5939\n",
      "Epoch 17 | Loss: 31.7925\n",
      "Epoch 18 | Loss: 25.7437\n",
      "Epoch 19 | Loss: 26.5749\n",
      "Epoch 20 | Loss: 17.7196\n",
      "Epoch 21 | Loss: 17.4437\n",
      "Epoch 22 | Loss: 7.2230\n",
      "Epoch 23 | Loss: 13.0540\n",
      "Epoch 24 | Loss: 18.7527\n",
      "Epoch 25 | Loss: 77.8919\n",
      "Epoch 26 | Loss: 27.1700\n",
      "Epoch 27 | Loss: 12.5623\n",
      "Epoch 28 | Loss: 7.4522\n",
      "Epoch 29 | Loss: 7.7425\n",
      "Epoch 30 | Loss: 47.4735\n",
      "Epoch 31 | Loss: 26.9805\n",
      "Epoch 32 | Loss: 5.5492\n",
      "Epoch 33 | Loss: 16.5956\n",
      "Epoch 34 | Loss: 10.1961\n",
      "Epoch 35 | Loss: 7.6812\n",
      "Epoch 36 | Loss: 2.2787\n",
      "Epoch 37 | Loss: 6.7515\n",
      "Epoch 38 | Loss: 9.3752\n",
      "Epoch 39 | Loss: 9.6676\n",
      "Epoch 40 | Loss: 8.8063\n",
      "Epoch 41 | Loss: 8.2827\n",
      "Epoch 42 | Loss: 4.2598\n",
      "Epoch 43 | Loss: 0.6262\n",
      "Epoch 44 | Loss: 2.0816\n",
      "Epoch 45 | Loss: 2.1577\n",
      "Epoch 46 | Loss: 5.2476\n",
      "Epoch 47 | Loss: 5.6028\n",
      "Epoch 48 | Loss: 0.1633\n",
      "Epoch 49 | Loss: 1.8334\n",
      "Epoch 50 | Loss: 11.0529\n"
     ]
    }
   ],
   "source": [
    "# training\n",
    "optimizer = nlp.begin_training()\n",
    "for epoch in range(50):\n",
    "    losses = {}\n",
    "    for text, annotations in train_data:\n",
    "        doc = nlp.make_doc(text)\n",
    "        example = Example.from_dict(doc, annotations)\n",
    "        nlp.update([example], drop=0.3, losses=losses)\n",
    "    print(f\"Epoch {epoch+1} | Loss: {losses['ner']:.4f}\")\n"
   ]
  },
  {
   "cell_type": "code",
   "execution_count": 5,
   "id": "80a5811d",
   "metadata": {},
   "outputs": [
    {
     "data": {
      "image/png": "[encoded data removed]",
      "text/plain": [
       "<Figure size 1000x500 with 1 Axes>"
      ]
     },
     "metadata": {},
     "output_type": "display_data"
    }
   ],
   "source": [
    "import matplotlib.pyplot as plt\n",
    "from spacy.training.example import Example\n",
    "\n",
    "# Inisialisasi training\n",
    "optimizer = nlp.begin_training()\n",
    "losses_per_epoch = []\n",
    "\n",
    "for epoch in range(50):\n",
    "    losses = {}\n",
    "    for text, annotations in train_data:\n",
    "        doc = nlp.make_doc(text)\n",
    "        example = Example.from_dict(doc, annotations)\n",
    "        nlp.update([example], drop=0.3, losses=losses)\n",
    "    \n",
    "    ner_loss = losses.get(\"ner\", 0)\n",
    "    losses_per_epoch.append(ner_loss)\n",
    "\n",
    "# Visualisasi grafik Loss\n",
    "plt.figure(figsize=(10, 5))\n",
    "plt.plot(range(1, 51), losses_per_epoch, marker='o', color='blue')\n",
    "plt.title(\"Training Loss per Epoch\")\n",
    "plt.xlabel(\"Epoch\")\n",
    "plt.ylabel(\"NER Loss\")\n",
    "plt.grid(True)\n",
    "plt.tight_layout()\n",
    "plt.show()\n"
   ]
  },
  {
   "cell_type": "code",
   "execution_count": 47,
   "id": "c2025653",
   "metadata": {},
   "outputs": [
    {
     "name": "stdout",
     "output_type": "stream",
     "text": [
      " Model disimpan ke: D:\\Projects\\Financial Tracking Web\\receipt_ner_model\n"
     ]
    }
   ],
   "source": [
    "# Simpan model\n",
    "output_dir = Path(\"receipt_ner_model\")\n",
    "nlp.to_disk(output_dir)\n",
    "print(f\" Model disimpan ke: {output_dir.resolve()}\")\n"
   ]
  },
  {
   "cell_type": "code",
   "execution_count": 48,
   "id": "e204e80b",
   "metadata": {},
   "outputs": [
    {
     "name": "stdout",
     "output_type": "stream",
     "text": [
      "Text: ikano handel sdn bhd (1074617k) ikea cheras no 2a jalan cochrane taman maluri 55100 kuala lumpur gst no.: 000115154944 tax invoice slip: 0000000011000140428 date: 09/08/17 time: 1:06 trans: 311140123 staff: 96728 description amount tx 30169728 bagis coat-hanger ch 2 pc @ 4.90 9.80 srm 70350938 teodores ch 90.00 sr s total rm including gst 6% 99.80 rounding adj. 0.00 total rounded 99.80 mastercard -99.80 gst sr 6% 99.80 5.64 amt. excl. gst 94.16 no. of items 3 thank you. please come again. *t3620000011000140428*\n",
      "Entities:\n",
      "COMPANY: ikano handel sdn bhd\n",
      "ADDRESS: no 2a jalan cochrane taman maluri 55100 kuala lumpur\n",
      "DATE: 09/08/17\n",
      "TOTAL: 99.80\n"
     ]
    }
   ],
   "source": [
    "# Load model\n",
    "nlp2 = spacy.load(\"receipt_ner_model\")\n",
    "\n",
    "# Coba prediksi teks dari salah satu data training\n",
    "test_text = train_data[2][0]\n",
    "doc = nlp2(test_text)\n",
    "\n",
    "print(\"Text:\", test_text)\n",
    "print(\"Entities:\")\n",
    "for ent in doc.ents:\n",
    "    print(f\"{ent.label_}: {ent.text}\")\n"
   ]
  },
  {
   "cell_type": "code",
   "execution_count": 49,
   "id": "0278b270",
   "metadata": {},
   "outputs": [
    {
     "name": "stdout",
     "output_type": "stream",
     "text": [
      "\u001b[38;5;4mℹ Using CPU\u001b[0m\n",
      "\u001b[1m\n",
      "================================== Results ==================================\u001b[0m\n",
      "\n",
      "TOK     100.00\n",
      "NER P   88.89 \n",
      "NER R   80.00 \n",
      "NER F   84.21 \n",
      "SPEED   8771  \n",
      "\n",
      "\u001b[1m\n",
      "=============================== NER (per type) ===============================\u001b[0m\n",
      "\n",
      "               P        R        F\n",
      "COMPANY   100.00    60.00    75.00\n",
      "ADDRESS    60.00    60.00    60.00\n",
      "DATE      100.00   100.00   100.00\n",
      "TOTAL     100.00   100.00   100.00\n",
      "\n"
     ]
    }
   ],
   "source": [
    "!python -m spacy evaluate receipt_ner_model ./test.spacy"
   ]
  }
 ],
 "metadata": {
  "kernelspec": {
   "display_name": "Python 3",
   "language": "python",
   "name": "python3"
  },
  "language_info": {
   "codemirror_mode": {
    "name": "ipython",
    "version": 3
   },
   "file_extension": ".py",
   "mimetype": "text/x-python",
   "name": "python",
   "nbconvert_exporter": "python",
   "pygments_lexer": "ipython3",
   "version": "3.11.3"
  }
 },
 "nbformat": 4,
 "nbformat_minor": 5
}
